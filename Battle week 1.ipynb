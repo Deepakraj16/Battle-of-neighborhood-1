{
    "cells": [
        {
            "metadata": {
                "collapsed": true
            },
            "cell_type": "markdown",
            "source": "  #                                                           Applied Data Science Capstone by IBM/Coursera\n"
        },
        {
            "metadata": {},
            "cell_type": "markdown",
            "source": "\n## Table of contents\n\n     Introduction:\n              - Business Problem\n              - Data\n              - Methodology\n              - Analysis\n              - Results and Discussion\n              - onclusion\n\n"
        },
        {
            "metadata": {},
            "cell_type": "markdown",
            "source": "\n## Introduction: Business Problem\n\nThis project aims to select the safest borough in London based on the total crimes, explore the neighborhoods of that borough to find the 10 most common venues in each neighborhood and finally cluster the neighborhoods using k-mean clustering.\n\nThis report will be targeted to people who are looking to relocate to London. Inorder to finalise a neighborhood to hunt for an apartment, safety is considered as a top concern when moving to a new place. If you don\u2019t feel safe in your own home, you\u2019re not going to be able to enjoy living there. The crime statistics will provide an insight into this issue.\n\nWe will focus on the safest borough and explore its neighborhoods and the 10 most common venues in each neighborhood so that the best neighborhood suited to an individual's needs can be selected.\n"
        },
        {
            "metadata": {},
            "cell_type": "code",
            "source": "",
            "execution_count": null,
            "outputs": []
        },
        {
            "metadata": {},
            "cell_type": "code",
            "source": "",
            "execution_count": null,
            "outputs": []
        },
        {
            "metadata": {},
            "cell_type": "code",
            "source": "",
            "execution_count": null,
            "outputs": []
        }
    ],
    "metadata": {
        "kernelspec": {
            "name": "python3",
            "display_name": "Python 3.6",
            "language": "python"
        },
        "language_info": {
            "name": "python",
            "version": "3.6.9",
            "mimetype": "text/x-python",
            "codemirror_mode": {
                "name": "ipython",
                "version": 3
            },
            "pygments_lexer": "ipython3",
            "nbconvert_exporter": "python",
            "file_extension": ".py"
        }
    },
    "nbformat": 4,
    "nbformat_minor": 1
}