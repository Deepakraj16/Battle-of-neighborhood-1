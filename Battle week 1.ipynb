{
    "cells": [
        {
            "cell_type": "markdown",
            "metadata": {
                "collapsed": true
            },
            "source": "  #                                                           Applied Data Science Capstone by IBM/Coursera\n"
        },
        {
            "cell_type": "markdown",
            "metadata": {},
            "source": "## Introduction: Business Problem"
        },
        {
            "cell_type": "markdown",
            "metadata": {},
            "source": " The City of Lahore, is the most populous city in the Lahore. Lahore is a city with an extremely rich food culture. People from Lahore are famous all over the country for their love for food. The city offers a vast variety of options when it comes to gastronomy. In recent times, the style of food has achieved popularity in a number of different countries, because of its palatable and milder taste, mainly through the Pakistani diaspora."
        },
        {
            "cell_type": "markdown",
            "metadata": {},
            "source": "## Solution data"
        },
        {
            "cell_type": "markdown",
            "metadata": {},
            "source": "This also means that the people of Lahore loves food and the best business could be to open a good resturant but food market is highly competitive. As it is highly developed city so cost of doing business is also one of the highest. The insights derived from analysis will give good understanding of the business environment which help in strategically targeting the market. This will help in reduction of risk. And the Return on Investment will be reasonable."
        },
        {
            "cell_type": "code",
            "execution_count": null,
            "metadata": {},
            "outputs": [],
            "source": ""
        }
    ],
    "metadata": {
        "kernelspec": {
            "display_name": "Python 3.6",
            "language": "python",
            "name": "python3"
        },
        "language_info": {
            "codemirror_mode": {
                "name": "ipython",
                "version": 3
            },
            "file_extension": ".py",
            "mimetype": "text/x-python",
            "name": "python",
            "nbconvert_exporter": "python",
            "pygments_lexer": "ipython3",
            "version": "3.6.9"
        }
    },
    "nbformat": 4,
    "nbformat_minor": 1
}